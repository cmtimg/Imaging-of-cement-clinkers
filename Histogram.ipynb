import cv2 as cv
import numpy as np
import matplotlib.pyplot as plt
import glob

def fixColor(image):
    return(cv.cvtColor(image,cv.COLOR_BGR2RGB))

listdata = glob.glob("./data/*.jpg")
    
for img_name in listdata:
    img  = cv.imread(img_name)
#    plt.imshow(img_name,img)
#    plt.imshow(fixColor(img))
#    plt.show()
    chans = cv.split(img)
    colors = ("b","g","r")
    plt.figure()
    for (chan, color) in zip(chans, colors):
        hist = cv.calcHist([chan],[0],None,[256],[0,256])
        plt.plot(hist,color = color)
        plt.title(img_name)
        plt.xlim([0,256])